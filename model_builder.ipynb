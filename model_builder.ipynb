{
 "cells": [
  {
   "cell_type": "code",
   "execution_count": null,
   "metadata": {},
   "outputs": [],
   "source": [
    "import pandas as pd\n",
    "from sklearn.preprocessing import LabelEncoder, OneHotEncoder\n",
    "from sklearn.model_selection import train_test_split\n",
    "from sklearn.ensemble import RandomForestClassifier\n",
    "import joblib\n",
    "from sklearn.metrics import classification_report"
   ]
  },
  {
   "cell_type": "markdown",
   "metadata": {},
   "source": [
    "### 1. Read the dataset and show a sample\n",
    "Display the first 3 rows of the dataset"
   ]
  },
  {
   "cell_type": "code",
   "execution_count": 1,
   "metadata": {},
   "outputs": [
    {
     "ename": "NameError",
     "evalue": "name 'pd' is not defined",
     "output_type": "error",
     "traceback": [
      "\u001b[31m---------------------------------------------------------------------------\u001b[39m",
      "\u001b[31mNameError\u001b[39m                                 Traceback (most recent call last)",
      "\u001b[36mCell\u001b[39m\u001b[36m \u001b[39m\u001b[32mIn[1]\u001b[39m\u001b[32m, line 1\u001b[39m\n\u001b[32m----> \u001b[39m\u001b[32m1\u001b[39m df = \u001b[43mpd\u001b[49m.read_csv(\u001b[33m'\u001b[39m\u001b[33mActivityRecommendSurvey.csv\u001b[39m\u001b[33m'\u001b[39m)\n\u001b[32m      2\u001b[39m \u001b[38;5;28mprint\u001b[39m(df.head(\u001b[32m3\u001b[39m))\n",
      "\u001b[31mNameError\u001b[39m: name 'pd' is not defined"
     ]
    }
   ],
   "source": [
    "df = pd.read_csv('ActivityRecommendSurvey.csv')\n",
    "print(df.head(3))"
   ]
  },
  {
   "cell_type": "markdown",
   "metadata": {},
   "source": [
    "### 2. Encoding categorical variables\n",
    "Using LabelEncoder for columns that have ordinal values (like 'Meslek' and 'Cinsiyet')"
   ]
  },
  {
   "cell_type": "code",
   "execution_count": null,
   "metadata": {},
   "outputs": [
    {
     "data": {
      "text/html": [
       "<div>\n",
       "<style scoped>\n",
       "    .dataframe tbody tr th:only-of-type {\n",
       "        vertical-align: middle;\n",
       "    }\n",
       "\n",
       "    .dataframe tbody tr th {\n",
       "        vertical-align: top;\n",
       "    }\n",
       "\n",
       "    .dataframe thead th {\n",
       "        text-align: right;\n",
       "    }\n",
       "</style>\n",
       "<table border=\"1\" class=\"dataframe\">\n",
       "  <thead>\n",
       "    <tr style=\"text-align: right;\">\n",
       "      <th></th>\n",
       "      <th>Yaş</th>\n",
       "      <th>Cinsiyet</th>\n",
       "      <th>Meslek</th>\n",
       "      <th>Mutluyken</th>\n",
       "      <th>Üzgünken</th>\n",
       "      <th>Öfkeliyken</th>\n",
       "    </tr>\n",
       "  </thead>\n",
       "  <tbody>\n",
       "    <tr>\n",
       "      <th>0</th>\n",
       "      <td>21</td>\n",
       "      <td>Erkek</td>\n",
       "      <td>Öğrenci</td>\n",
       "      <td>Doğa Yürüyüşü</td>\n",
       "      <td>Yürüyüş (Doğa - Sahil - Park)</td>\n",
       "      <td>Müzik Dinlemek</td>\n",
       "    </tr>\n",
       "    <tr>\n",
       "      <th>1</th>\n",
       "      <td>21</td>\n",
       "      <td>Kadın</td>\n",
       "      <td>Öğrenci</td>\n",
       "      <td>Müzik Dinlemek</td>\n",
       "      <td>Birileriyle Konuşmak</td>\n",
       "      <td>Derin Nefes Egzersizi</td>\n",
       "    </tr>\n",
       "    <tr>\n",
       "      <th>2</th>\n",
       "      <td>24</td>\n",
       "      <td>Erkek</td>\n",
       "      <td>Öğrenci</td>\n",
       "      <td>Dans Etmek</td>\n",
       "      <td>Birileriyle Konuşmak</td>\n",
       "      <td>Mola Vermek</td>\n",
       "    </tr>\n",
       "    <tr>\n",
       "      <th>3</th>\n",
       "      <td>20</td>\n",
       "      <td>Erkek</td>\n",
       "      <td>Öğrenci</td>\n",
       "      <td>Müzik Dinlemek</td>\n",
       "      <td>Film - Dizi İzlemek</td>\n",
       "      <td>Müzik Dinlemek</td>\n",
       "    </tr>\n",
       "    <tr>\n",
       "      <th>4</th>\n",
       "      <td>19</td>\n",
       "      <td>Erkek</td>\n",
       "      <td>Öğrenci</td>\n",
       "      <td>Spor Yapmak (Bisiklet - Koşu - Yüzme)</td>\n",
       "      <td>Film - Dizi İzlemek</td>\n",
       "      <td>Müzik Dinlemek</td>\n",
       "    </tr>\n",
       "    <tr>\n",
       "      <th>...</th>\n",
       "      <td>...</td>\n",
       "      <td>...</td>\n",
       "      <td>...</td>\n",
       "      <td>...</td>\n",
       "      <td>...</td>\n",
       "      <td>...</td>\n",
       "    </tr>\n",
       "    <tr>\n",
       "      <th>175</th>\n",
       "      <td>23</td>\n",
       "      <td>Erkek</td>\n",
       "      <td>Öğrenci</td>\n",
       "      <td>Doğa Yürüyüşü</td>\n",
       "      <td>Film - Dizi İzlemek</td>\n",
       "      <td>Müzik Dinlemek</td>\n",
       "    </tr>\n",
       "    <tr>\n",
       "      <th>176</th>\n",
       "      <td>25</td>\n",
       "      <td>Kadın</td>\n",
       "      <td>Doktor</td>\n",
       "      <td>Müzik Dinlemek</td>\n",
       "      <td>Yemek yapmak/yemek</td>\n",
       "      <td>Müzik Dinlemek</td>\n",
       "    </tr>\n",
       "    <tr>\n",
       "      <th>177</th>\n",
       "      <td>21</td>\n",
       "      <td>Kadın</td>\n",
       "      <td>Endüstri Mühendisi</td>\n",
       "      <td>Müzik Dinlemek</td>\n",
       "      <td>Film - Dizi İzlemek</td>\n",
       "      <td>Duş Almak</td>\n",
       "    </tr>\n",
       "    <tr>\n",
       "      <th>178</th>\n",
       "      <td>22</td>\n",
       "      <td>Kadın</td>\n",
       "      <td>Öğrenci</td>\n",
       "      <td>Dans Etmek</td>\n",
       "      <td>Birileriyle Konuşmak</td>\n",
       "      <td>Derin Nefes Egzersizi</td>\n",
       "    </tr>\n",
       "    <tr>\n",
       "      <th>179</th>\n",
       "      <td>22</td>\n",
       "      <td>Kadın</td>\n",
       "      <td>Öğrenci</td>\n",
       "      <td>Dans Etmek</td>\n",
       "      <td>Birileriyle Konuşmak</td>\n",
       "      <td>Derin Nefes Egzersizi</td>\n",
       "    </tr>\n",
       "  </tbody>\n",
       "</table>\n",
       "<p>180 rows × 6 columns</p>\n",
       "</div>"
      ],
      "text/plain": [
       "     Yaş Cinsiyet              Meslek                              Mutluyken  \\\n",
       "0     21    Erkek             Öğrenci                          Doğa Yürüyüşü   \n",
       "1     21    Kadın             Öğrenci                         Müzik Dinlemek   \n",
       "2     24    Erkek             Öğrenci                             Dans Etmek   \n",
       "3     20    Erkek             Öğrenci                         Müzik Dinlemek   \n",
       "4     19    Erkek             Öğrenci  Spor Yapmak (Bisiklet - Koşu - Yüzme)   \n",
       "..   ...      ...                 ...                                    ...   \n",
       "175   23    Erkek             Öğrenci                          Doğa Yürüyüşü   \n",
       "176   25    Kadın              Doktor                         Müzik Dinlemek   \n",
       "177   21    Kadın  Endüstri Mühendisi                         Müzik Dinlemek   \n",
       "178   22    Kadın             Öğrenci                             Dans Etmek   \n",
       "179   22    Kadın             Öğrenci                             Dans Etmek   \n",
       "\n",
       "                          Üzgünken             Öfkeliyken  \n",
       "0    Yürüyüş (Doğa - Sahil - Park)         Müzik Dinlemek  \n",
       "1             Birileriyle Konuşmak  Derin Nefes Egzersizi  \n",
       "2             Birileriyle Konuşmak            Mola Vermek  \n",
       "3              Film - Dizi İzlemek         Müzik Dinlemek  \n",
       "4              Film - Dizi İzlemek         Müzik Dinlemek  \n",
       "..                             ...                    ...  \n",
       "175            Film - Dizi İzlemek         Müzik Dinlemek  \n",
       "176             Yemek yapmak/yemek         Müzik Dinlemek  \n",
       "177            Film - Dizi İzlemek              Duş Almak  \n",
       "178           Birileriyle Konuşmak  Derin Nefes Egzersizi  \n",
       "179           Birileriyle Konuşmak  Derin Nefes Egzersizi  \n",
       "\n",
       "[180 rows x 6 columns]"
      ]
     },
     "execution_count": 3,
     "metadata": {},
     "output_type": "execute_result"
    }
   ],
   "source": [
    "df"
   ]
  },
  {
   "cell_type": "code",
   "execution_count": null,
   "metadata": {},
   "outputs": [
    {
     "name": "stdout",
     "output_type": "stream",
     "text": [
      "DataFrame:\n",
      "      Yaş Cinsiyet              Meslek                              Mutluyken  \\\n",
      "0     21    Erkek             Öğrenci                          Doğa Yürüyüşü   \n",
      "1     21    Kadın             Öğrenci                         Müzik Dinlemek   \n",
      "2     24    Erkek             Öğrenci                             Dans Etmek   \n",
      "3     20    Erkek             Öğrenci                         Müzik Dinlemek   \n",
      "4     19    Erkek             Öğrenci  Spor Yapmak (Bisiklet - Koşu - Yüzme)   \n",
      "..   ...      ...                 ...                                    ...   \n",
      "175   23    Erkek             Öğrenci                          Doğa Yürüyüşü   \n",
      "176   25    Kadın              Doktor                         Müzik Dinlemek   \n",
      "177   21    Kadın  Endüstri Mühendisi                         Müzik Dinlemek   \n",
      "178   22    Kadın             Öğrenci                             Dans Etmek   \n",
      "179   22    Kadın             Öğrenci                             Dans Etmek   \n",
      "\n",
      "                          Üzgünken             Öfkeliyken  \n",
      "0    Yürüyüş (Doğa - Sahil - Park)         Müzik Dinlemek  \n",
      "1             Birileriyle Konuşmak  Derin Nefes Egzersizi  \n",
      "2             Birileriyle Konuşmak            Mola Vermek  \n",
      "3              Film - Dizi İzlemek         Müzik Dinlemek  \n",
      "4              Film - Dizi İzlemek         Müzik Dinlemek  \n",
      "..                             ...                    ...  \n",
      "175            Film - Dizi İzlemek         Müzik Dinlemek  \n",
      "176             Yemek yapmak/yemek         Müzik Dinlemek  \n",
      "177            Film - Dizi İzlemek              Duş Almak  \n",
      "178           Birileriyle Konuşmak  Derin Nefes Egzersizi  \n",
      "179           Birileriyle Konuşmak  Derin Nefes Egzersizi  \n",
      "\n",
      "[180 rows x 6 columns]\n",
      "Encoded DataFrame:\n",
      "      Yaş  Cinsiyet  Meslek  Mutluyken  Üzgünken  Öfkeliyken\n",
      "0     21         0      24          1        12           7\n",
      "1     21         1      24          5         1           1\n",
      "2     24         0      24          0         1           5\n",
      "3     20         0      24          5         3           7\n",
      "4     19         0      24          7         3           7\n",
      "..   ...       ...     ...        ...       ...         ...\n",
      "175   23         0      24          1         3           7\n",
      "176   25         1       7          5        11           7\n",
      "177   21         1       9          5         3           2\n",
      "178   22         1      24          0         1           1\n",
      "179   22         1      24          0         1           1\n",
      "\n",
      "[180 rows x 6 columns]\n",
      "\n",
      "Decoded Values:\n",
      "Mutluyken: ['Dans Etmek' 'Doğa Yürüyüşü' 'El İşi (Resim - heykel - dikiş nakış)'\n",
      " 'Kitap Okumak' 'Meditasyon' 'Müzik Dinlemek' 'Oyun Oynamak'\n",
      " 'Spor Yapmak (Bisiklet - Koşu - Yüzme)' 'Uyumak']\n",
      "Üzgünken: ['Bir şeyler içmek' 'Birileriyle Konuşmak' 'Dizi İzlemek'\n",
      " 'Film - Dizi İzlemek' 'Günlük Yazma' 'Kod Yazmak' 'Meditasyon - Yoga'\n",
      " 'Müzik Dinlemek' 'Müzik dinlemek' 'Satranç & Müzik dinlemek' 'Uyumak'\n",
      " 'Yemek yapmak/yemek' 'Yürüyüş (Doğa - Sahil - Park)' 'Şiir Yazmak']\n",
      "Öfkeliyken: ['Beyaz Futbol editleri' 'Derin Nefes Egzersizi' 'Duş Almak'\n",
      " 'Duş Almak - Mola Vermek' 'Düşünmek' 'Mola Vermek' 'Motorsiklet Sürmek'\n",
      " 'Müzik Dinlemek' 'Spor Yapmak' 'Uyumak' 'Yürümek']\n"
     ]
    }
   ],
   "source": [
    "import numpy as np\n",
    "\n",
    "\n",
    "df_encoded = pd.read_csv('ActivityRecommendSurvey.csv')\n",
    "def encoder(column,frame=df_encoded):\n",
    "    le=LabelEncoder()\n",
    "    # if i use this commented code, i cant inverse transform back to original. However, fit_transform from pandas is work well after inverse_transform.\n",
    "    # It may be due to how pands internally tracks categorical data when assigned in one step versus step-by-step\n",
    "    # le.fit(frame[column])\n",
    "    # frame[column] = le.transform(frame[column])\n",
    "    \"\"\"Encodes the given column using LabelEncoder\"\"\" \n",
    "    frame[column]=le.fit_transform(frame[column])\n",
    "    return le\n",
    "# Label Encoding for columns: 'Cinsiyet', 'Meslek', 'Mutluyken', 'Üzgünken', 'Öfkeliyken'\n",
    "le_gender = encoder('Cinsiyet')\n",
    "le_job = encoder('Meslek')\n",
    "le_happy = encoder('Mutluyken')\n",
    "le_sad = encoder('Üzgünken')\n",
    "le_angry = encoder('Öfkeliyken')\n",
    "\n",
    "\n",
    "# OneHotEncoder can be used for categorical features like 'Cinsiyet' in a more explicit way\n",
    "# 0 for man, 1 for woman\n",
    "oe_style = OneHotEncoder()\n",
    "oe_results = oe_style.fit_transform(df_encoded[[\"Cinsiyet\"]])\n",
    "\n",
    "# Encode values (already done inside the function)\n",
    "print(\"DataFrame:\\n\", df)\n",
    "print(\"Encoded DataFrame:\\n\", df_encoded)\n",
    "\n",
    "# Reverse transformation\n",
    "\n",
    "decoded_happy = le_happy.inverse_transform(df_encoded[\"Mutluyken\"])\n",
    "decoded_sad = le_sad.inverse_transform(df_encoded[\"Üzgünken\"])\n",
    "decoded_angry = le_angry.inverse_transform(df_encoded[\"Öfkeliyken\"])\n",
    "\n",
    "print(\"\\nDecoded Values:\")\n",
    "print(\"Mutluyken:\", np.unique(decoded_happy))\n",
    "print(\"Üzgünken:\", np.unique(decoded_sad))\n",
    "print(\"Öfkeliyken:\", np.unique(decoded_angry))"
   ]
  },
  {
   "cell_type": "code",
   "execution_count": null,
   "metadata": {},
   "outputs": [
    {
     "name": "stdout",
     "output_type": "stream",
     "text": [
      "       0    1\n",
      "0    1.0  0.0\n",
      "1    0.0  1.0\n",
      "2    1.0  0.0\n",
      "3    1.0  0.0\n",
      "4    1.0  0.0\n",
      "..   ...  ...\n",
      "175  1.0  0.0\n",
      "176  0.0  1.0\n",
      "177  0.0  1.0\n",
      "178  0.0  1.0\n",
      "179  0.0  1.0\n",
      "\n",
      "[180 rows x 2 columns]\n"
     ]
    }
   ],
   "source": [
    "# Show the one-hot encoded results for the 'Cinsiyet' column\n",
    "print(pd.DataFrame(oe_results.toarray(), columns=oe_style.categories_))"
   ]
  },
  {
   "cell_type": "markdown",
   "metadata": {},
   "source": [
    "### 3. Train-test split and training the model\n",
    "Features for training: 'Yaş', 'Cinsiyet', 'Meslek'"
   ]
  },
  {
   "cell_type": "code",
   "execution_count": null,
   "metadata": {},
   "outputs": [],
   "source": [
    "features = df_encoded[['Yaş', 'Cinsiyet', 'Meslek']]\n",
    "\n",
    "# Labels for different emotional states\n",
    "labels = {\n",
    "    \"sad\":df_encoded[\"Üzgünken\"],\n",
    "    \"happy\":df_encoded[\"Mutluyken\"],\n",
    "    \"angry\":df_encoded[\"Öfkeliyken\"],\n",
    "}\n",
    "\n",
    "# Splitting the data into training and testing sets (80% train, 20% test)\n",
    "X_train_happy, X_test_happy, y_train_happy, y_test_happy = train_test_split(features, labels[\"happy\"], test_size=0.2, random_state=42)\n",
    "X_train_sad, X_test_sad, y_train_sad, y_test_sad = train_test_split(features, labels[\"sad\"], test_size=0.2, random_state=42)\n",
    "X_train_angry, X_test_angry, y_train_angry, y_test_angry = train_test_split(features, labels[\"angry\"], test_size=0.2, random_state=42)"
   ]
  },
  {
   "cell_type": "markdown",
   "metadata": {},
   "source": [
    "classification_report is a function in scikit-learn used to evaluate the performance of a classification model by providing metrics such as precision, recall, f1-score, and support for each class. It gives you a detailed performance report for your classifier, showing how well it performed across different classes."
   ]
  },
  {
   "cell_type": "markdown",
   "metadata": {},
   "source": [
    "| Metric        | What It Measures                          | When is High Value Good?                                      | When to Focus on It?                           |\n",
    "|--------------|--------------------------------------|--------------------------------------------------|--------------------------------|\n",
    "| **Precision** | Correctness of positive predictions | When false positives are bad (e.g., spam detection, medical diagnosis) | You care about **being right** when predicting a class |\n",
    "| **Recall**    | Coverage of actual positive cases   | When false negatives are bad (e.g., cancer detection, fraud detection) | You care about **not missing** a real case |\n",
    "| **F1-Score**  | Balance of precision & recall      | When both precision & recall matter             | There’s a **trade-off** between precision and recall |\n",
    "| **Support**   | How many samples exist per class   | -                                                | If a class has low support, the model may struggle with it |\n",
    "| **Accuracy**  | Overall correctness                | When classes are balanced                        | Use only when data is **balanced** |\n",
    "| **Macro Avg** | Average performance across all classes (treats all equally) | When all classes are equally important | Use when all classes need equal attention |\n",
    "| **Weighted Avg** | Average weighted by class frequency | When classes are imbalanced | Use when some classes have **much more data** than others |\n"
   ]
  },
  {
   "cell_type": "code",
   "execution_count": null,
   "metadata": {},
   "outputs": [
    {
     "name": "stdout",
     "output_type": "stream",
     "text": [
      "Happy State Classification Report (with target names):\n",
      "                                       precision    recall  f1-score   support\n",
      "\n",
      "                           Dans Etmek       0.08      0.25      0.12         4\n",
      "                        Doğa Yürüyüşü       0.50      0.33      0.40         6\n",
      "El İşi (Resim - heykel - dikiş nakış)       0.00      0.00      0.00         2\n",
      "                         Kitap Okumak       0.00      0.00      0.00         2\n",
      "                       Müzik Dinlemek       0.56      0.36      0.43        14\n",
      "Spor Yapmak (Bisiklet - Koşu - Yüzme)       0.50      0.50      0.50         8\n",
      "\n",
      "                             accuracy                           0.33        36\n",
      "                            macro avg       0.27      0.24      0.24        36\n",
      "                         weighted avg       0.42      0.33      0.36        36\n",
      "\n",
      "Sad State Classification Report (with target names):\n",
      "                               precision    recall  f1-score   support\n",
      "\n",
      "         Birileriyle Konuşmak       0.00      0.00      0.00         5\n",
      "                 Dizi İzlemek       0.00      0.00      0.00         1\n",
      "          Film - Dizi İzlemek       0.44      0.64      0.52        11\n",
      "                 Günlük Yazma       0.00      0.00      0.00         7\n",
      "                   Kod Yazmak       0.00      0.00      0.00         1\n",
      "            Meditasyon - Yoga       0.00      0.00      0.00         1\n",
      "                       Uyumak       0.00      0.00      0.00         1\n",
      "           Yemek yapmak/yemek       0.00      0.00      0.00         2\n",
      "Yürüyüş (Doğa - Sahil - Park)       0.20      0.29      0.24         7\n",
      "\n",
      "                     accuracy                           0.25        36\n",
      "                    macro avg       0.07      0.10      0.08        36\n",
      "                 weighted avg       0.17      0.25      0.20        36\n",
      "\n",
      "Angry State Classification Report (with target names):\n",
      "                         precision    recall  f1-score   support\n",
      "\n",
      "  Derin Nefes Egzersizi       0.33      0.17      0.22         6\n",
      "              Duş Almak       0.00      0.00      0.00         4\n",
      "Duş Almak - Mola Vermek       0.00      0.00      0.00         1\n",
      "            Mola Vermek       0.50      0.44      0.47        16\n",
      "         Müzik Dinlemek       0.15      0.25      0.19         8\n",
      "                 Uyumak       0.00      0.00      0.00         1\n",
      "\n",
      "               accuracy                           0.28        36\n",
      "              macro avg       0.16      0.14      0.15        36\n",
      "           weighted avg       0.31      0.28      0.29        36\n",
      "\n"
     ]
    }
   ],
   "source": [
    "# Train and evaluate model using Random Forest Classifier\n",
    "import numpy as np\n",
    "\n",
    "\n",
    "def train_and_evaluate(X_train, X_test, y_train, y_test, label_encoder, state):\n",
    "    \"\"\"Train and evaluate a RandomForest model for each emotional state\"\"\"\n",
    "    model = RandomForestClassifier(random_state=42)\n",
    "    model.fit(X_train, y_train)\n",
    "    y_pred = model.predict(X_test)\n",
    "    target_names = [str(label) for label in label_encoder.inverse_transform(np.unique(y_test))]\n",
    "    print(f\"{state} State Classification Report (with target names):\")\n",
    "    print(classification_report(y_test, y_pred, target_names=target_names, zero_division=0))\n",
    "    \n",
    "    return model\n",
    "\n",
    "# Training and evaluating the models for each emotion\n",
    "modelHappy = train_and_evaluate(X_train_happy, X_test_happy, y_train_happy, y_test_happy, le_happy, 'Happy')\n",
    "modelSad = train_and_evaluate(X_train_sad, X_test_sad, y_train_sad, y_test_sad, le_sad, 'Sad')\n",
    "modelAngry = train_and_evaluate(X_train_angry, X_test_angry, y_train_angry, y_test_angry, le_angry, 'Angry')"
   ]
  },
  {
   "cell_type": "markdown",
   "metadata": {},
   "source": [
    "### 4. Save models and label encoders using joblib\n",
    "Saving the trained RandomForest models and label encoders for later use"
   ]
  },
  {
   "cell_type": "code",
   "execution_count": null,
   "metadata": {},
   "outputs": [
    {
     "data": {
      "text/plain": [
       "['models/propsModels/le_angry.pkl']"
      ]
     },
     "execution_count": 8,
     "metadata": {},
     "output_type": "execute_result"
    }
   ],
   "source": [
    "joblib.dump(modelHappy, 'models/rfHappyModel.pkl')\n",
    "joblib.dump(modelSad, 'models/rfSadModel.pkl')\n",
    "joblib.dump(modelAngry, 'models/rfAngryModel.pkl')\n",
    "\n",
    "joblib.dump(le_gender, 'models/propsModels/le_gender.pkl')\n",
    "joblib.dump(le_job, 'models/propsModels/le_job.pkl')\n",
    "joblib.dump(le_happy, 'models/propsModels/le_happy.pkl')\n",
    "joblib.dump(le_sad, 'models/propsModels/le_sad.pkl')\n",
    "joblib.dump(le_angry, 'models/propsModels/le_angry.pkl')"
   ]
  },
  {
   "cell_type": "code",
   "execution_count": null,
   "metadata": {},
   "outputs": [
    {
     "name": "stdout",
     "output_type": "stream",
     "text": [
      "24\n"
     ]
    }
   ],
   "source": [
    "#TODO deneme - stiring den numeric encoded value yu elde etmeye çalışma\n",
    "# BİTTİ\n",
    "job = \"Öğrenci\"\n",
    "encoded_job = le_job.transform([job])[0] if job in le_job.classes_ else None\n",
    "print(encoded_job)"
   ]
  },
  {
   "cell_type": "markdown",
   "metadata": {},
   "source": [
    "## **Activity Prediction Based on User Input**  \n",
    "\n",
    "This script predicts an activity based on user inputs for **age, gender, job, and mood** using a trained **Random Forest model**.  \n",
    "\n",
    "### **Steps:**  \n",
    "1. **User Input:**  \n",
    "   - The user enters **age, gender, job, and mood** (Happy, Sad, or Angry).  \n",
    "\n",
    "2. **Encoding:**  \n",
    "   - The inputs are converted into numeric values using pre-trained `LabelEncoder`s.  \n",
    "   - If an invalid gender or job is entered, an error message is displayed.  \n",
    "\n",
    "3. **Model Selection & Prediction:**  \n",
    "   - Based on the mood, the corresponding **machine learning model** is loaded.  \n",
    "   - The encoded inputs are fed into the model to predict an **activity**.  \n",
    "\n",
    "4. **Decoding & Output:**  \n",
    "   - The predicted numeric value is converted back into an **activity name**.  \n",
    "   - The final result is displayed.  "
   ]
  },
  {
   "cell_type": "code",
   "execution_count": null,
   "metadata": {},
   "outputs": [
    {
     "name": "stdout",
     "output_type": "stream",
     "text": [
      "\n",
      "--------------- INPUT ---------------\n",
      "User age: 23\n",
      "User gender: Kadın\n",
      "User job: Öğrenci\n",
      "User Mood: Mutlu\n",
      "\n",
      "\n",
      "--------------- OUTPUT ---------------\n",
      "User age: 23\n",
      "User gender: 1\n",
      "User job: 24\n",
      "User mood: Mutlu\n",
      "User Encoded Activity: 7\n",
      "User predicted activity: Spor Yapmak (Bisiklet - Koşu - Yüzme)\n"
     ]
    },
    {
     "name": "stderr",
     "output_type": "stream",
     "text": [
      "C:\\Users\\burci\\AppData\\Local\\Packages\\PythonSoftwareFoundation.Python.3.11_qbz5n2kfra8p0\\LocalCache\\local-packages\\Python311\\site-packages\\sklearn\\base.py:493: UserWarning: X does not have valid feature names, but RandomForestClassifier was fitted with feature names\n",
      "  warnings.warn(\n"
     ]
    }
   ],
   "source": [
    "import joblib\n",
    "import numpy as np\n",
    "\n",
    "user_age = int(input(\"Enter your age: \\n\"))\n",
    "user_gender = input(\"Enter your gender: \\n\")\n",
    "user_job = input(\"Enter your job: \\n\")\n",
    "user_mood = input(\"Enter your mood: \\n\")\n",
    "print(\"\\n--------------- INPUT ---------------\")\n",
    "print(f\"User age: {user_age}\\nUser gender: {user_gender}\\nUser job: {user_job}\\nUser Mood: {user_mood}\\n\")\n",
    "\n",
    "le_gender = joblib.load(\"models/propsModels/le_gender.pkl\")\n",
    "le_job = joblib.load(\"models/propsModels/le_job.pkl\")\n",
    "\n",
    "match(user_mood):\n",
    "    case \"Mutlu\": \n",
    "        le_mood = joblib.load(\"models/propsModels/le_happy.pkl\") \n",
    "        model = joblib.load(\"models/rfHappyModel.pkl\")\n",
    "    case \"Üzgün\": \n",
    "        le_mood = joblib.load(\"models/propsModels/le_sad.pkl\")\n",
    "        model = joblib.load(\"models/rfSadModel.pkl\")\n",
    "    case \"Öfkeli\": \n",
    "        le_mood = joblib.load(\"models/propsModels/le_angry.pkl\")\n",
    "        model = joblib.load(\"models/rfAngryModel.pkl\")\n",
    "    case _: print(\"Not Valid Mood!\")\n",
    "\n",
    "encoded_gender = le_gender.transform([user_gender])[0] if user_gender in le_gender.classes_ else None\n",
    "encoded_job = le_job.transform([user_job])[0] if user_job in le_job.classes_ else None\n",
    "\n",
    "if encoded_gender is None or encoded_job is None:\n",
    "    print(\"Geçersiz cinsiyet veya meslek girdiniz. Lütfen tekrar deneyin.\")\n",
    "    exit()\n",
    "    \n",
    "input_features = np.array([[user_age, encoded_gender, encoded_job]])\n",
    "predicted_activity_encoded = model.predict(input_features)[0]\n",
    "decoded_mood = le_mood.inverse_transform([predicted_activity_encoded])[0] if predicted_activity_encoded in range(len(le_mood.classes_)) else None\n",
    "print(\"\\n--------------- OUTPUT ---------------\")\n",
    "print(f\"User age: {user_age}\\nUser gender: {encoded_gender}\\nUser job: {encoded_job}\\nUser mood: {user_mood}\\nUser Encoded Activity: {predicted_activity_encoded}\\nUser predicted activity: {decoded_mood}\\n\")"
   ]
  }
 ],
 "metadata": {
  "kernelspec": {
   "display_name": "Python 3",
   "language": "python",
   "name": "python3"
  },
  "language_info": {
   "codemirror_mode": {
    "name": "ipython",
    "version": 3
   },
   "file_extension": ".py",
   "mimetype": "text/x-python",
   "name": "python",
   "nbconvert_exporter": "python",
   "pygments_lexer": "ipython3",
   "version": "3.11.9"
  }
 },
 "nbformat": 4,
 "nbformat_minor": 2
}
